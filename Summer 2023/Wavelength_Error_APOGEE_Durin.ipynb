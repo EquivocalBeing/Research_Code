{
 "cells": [
  {
   "cell_type": "code",
   "execution_count": 1,
   "id": "ff3c3b1d",
   "metadata": {
    "scrolled": false
   },
   "outputs": [
    {
     "name": "stdout",
     "output_type": "stream",
     "text": [
      "Zero Point: -0.008461538461538467\n",
      "Dispersion: 0.19441613393979082\n"
     ]
    },
    {
     "data": {
      "image/png": "[encoded data removed]",
      "text/plain": [
       "<Figure size 504x360 with 1 Axes>"
      ]
     },
     "metadata": {
      "needs_background": "light"
     },
     "output_type": "display_data"
    }
   ],
   "source": [
    "import sys\n",
    "import os, os.path\n",
    "import numpy as np\n",
    "import matplotlib.pyplot as plt\n",
    "import csv\n",
    "from scipy.stats import kde\n",
    "import pandas as pd\n",
    "\n",
    "myfile = pd.read_csv('/home/smu/Carlos/SPACE/apogee_results/apogee_space_control.out', comment='#', delimiter = ',')\n",
    "\n",
    "Name_SPACE = myfile['Spectra_name']\n",
    "FeH_SPACE = myfile['Fe']\n",
    "#Teff_SPACE = myfile['Teff']\n",
    "#logg_SPACE = myfile['logg']\n",
    "\n",
    "ap_stds = pd.read_csv('/home/smu/Carlos/APOGEE_STDS/stds_durin.dat', comment='#', delimiter= ',')\n",
    "\n",
    "Name_ap = ap_stds['Spectra_name']\n",
    "FeH_ap = ap_stds['FE_H']\n",
    "#Teff_ap = ap_stds['Teff']\n",
    "#logg_ap = ap_stds['logg']\n",
    "#SiFe_ap = ap_stds['SiFe']\n",
    "#MgFe_ap = ap_stds['MgFe']\n",
    "\n",
    "\n",
    "FeDiff=[]\n",
    "FeTrue=[]\n",
    "\n",
    "for i in range(0, len(myfile)):\n",
    "    if Name_SPACE[i] == Name_ap[i]:\n",
    "        FeDiff.append(FeH_SPACE[i] - FeH_ap[i])\n",
    "        FeTrue.append(FeH_ap[i])\n",
    "\n",
    "        Fe_avgdiff = np.mean(FeDiff)\n",
    "        Fe_avediffstd = np.std(FeDiff)\n",
    "                \n",
    "print('Zero Point: ' + str(Fe_avgdiff) + '\\nDispersion: ' + str(Fe_avediffstd))\n",
    "\n",
    "fig = plt.figure(figsize = (7,5))\n",
    "plt.plot(FeTrue, FeDiff, \".\", markersize=12, color = 'blue')\n",
    "plt.xlabel(r\"$\\bf[Fe/H]_{APOGEE}$\", fontsize = 18)\n",
    "plt.ylabel(r\"$\\bf[Fe/H]_{SPACE}$ - $\\bf[Fe/H]_{APOGEE}$\", fontsize = 18)\n",
    "plt.axhline(y=0, color='k', linestyle = '-', label = 'Apogee')\n",
    "plt.errorbar(FeTrue, FeDiff, yerr = 0.1, xerr = 0.1, fmt='None', color = 'orange', label = 'error +/- 0.1')\n",
    "plt.legend()\n",
    "#plt.show()\n",
    "plt.savefig('calibration_stars.jpg')\n"
   ]
  },
  {
   "cell_type": "code",
   "execution_count": null,
   "id": "86ec1c65",
   "metadata": {},
   "outputs": [],
   "source": []
  },
  {
   "cell_type": "code",
   "execution_count": null,
   "id": "8025f2cb",
   "metadata": {},
   "outputs": [],
   "source": []
  }
 ],
 "metadata": {
  "kernelspec": {
   "display_name": "Python 3 (ipykernel)",
   "language": "python",
   "name": "python3"
  },
  "language_info": {
   "codemirror_mode": {
    "name": "ipython",
    "version": 3
   },
   "file_extension": ".py",
   "mimetype": "text/x-python",
   "name": "python",
   "nbconvert_exporter": "python",
   "pygments_lexer": "ipython3",
   "version": "3.9.12"
  }
 },
 "nbformat": 4,
 "nbformat_minor": 5
}
